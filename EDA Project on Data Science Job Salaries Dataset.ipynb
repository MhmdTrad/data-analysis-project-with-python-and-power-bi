{
 "cells": [
  {
   "cell_type": "markdown",
   "id": "66600622",
   "metadata": {},
   "source": [
    "# EDA Project on Data Science Job Salaries Dataset"
   ]
  },
  {
   "cell_type": "markdown",
   "id": "e911bf6c",
   "metadata": {},
   "source": [
    "![image](https://cdn.searchenginejournal.com/wp-content/uploads/2021/05/top-10-data-analysis-mistakes-digital-marketers-make-60a3b7da1bd73.png)"
   ]
  },
  {
   "cell_type": "markdown",
   "id": "db4f1c26",
   "metadata": {},
   "source": [
    "# Dataset Source :\n",
    "https://www.kaggle.com/datasets/ruchi798/data-science-job-salaries"
   ]
  },
  {
   "cell_type": "code",
   "execution_count": 1,
   "id": "6fe42d5b",
   "metadata": {},
   "outputs": [],
   "source": [
    "import pandas as pd\n",
    "import numpy as np\n",
    "import matplotlib.pyplot as plt\n",
    "import seaborn as sns"
   ]
  },
  {
   "cell_type": "markdown",
   "id": "8a9dd58a",
   "metadata": {},
   "source": [
    "<h4>Data Science Job Salaries Dataset contains <mark>11 columns</mark>, each are:</h4>\n",
    "\n",
    "\n",
    "* <b> <mark>1. work_year</mark></b>: The year the salary was paid.\n",
    "* <b> <mark>2. experience_level</mark></b>: The experience level in the job during the year\n",
    "* <b> <mark>3. employment_type</mark></b>: The type of employment for the role\n",
    "* <b> <mark>4. job_title</mark></b>: The role worked in during the year.\n",
    "* <b> <mark>5. salary</mark></b>: The total gross salary amount paid.\n",
    "* <b> <mark>6. salary_currency</mark></b>: The currency of the salary paid.\n",
    "* <b> <mark>7. salaryinusd</mark></b>: The salary in USD \n",
    "* <b> <mark>8. employee_residence</mark></b>: Employee's primary country of residence in during the work year.\n",
    "* <b> <mark>9. remote_ratio</mark></b>: The overall amount of work done remotely\n",
    "* <b> <mark>10. company_location</mark></b>: The Location Of The Company \n",
    "* <b> <mark>11. company_size</mark></b>: The Size Of The Company.(small,medium,large)"
   ]
  },
  {
   "cell_type": "code",
   "execution_count": 2,
   "id": "bb545ded",
   "metadata": {},
   "outputs": [],
   "source": [
    "df=pd.read_csv('ds_salaries.csv')"
   ]
  },
  {
   "cell_type": "code",
   "execution_count": 4,
   "id": "b5e20268",
   "metadata": {},
   "outputs": [],
   "source": [
    "df.drop(['salary','salary_currency','Unnamed: 0'],axis=1,inplace=True)"
   ]
  },
  {
   "cell_type": "code",
   "execution_count": 6,
   "id": "77000eda",
   "metadata": {},
   "outputs": [
    {
     "name": "stdout",
     "output_type": "stream",
     "text": [
      "<class 'pandas.core.frame.DataFrame'>\n",
      "RangeIndex: 607 entries, 0 to 606\n",
      "Data columns (total 9 columns):\n",
      " #   Column              Non-Null Count  Dtype \n",
      "---  ------              --------------  ----- \n",
      " 0   work_year           607 non-null    int64 \n",
      " 1   experience_level    607 non-null    object\n",
      " 2   employment_type     607 non-null    object\n",
      " 3   job_title           607 non-null    object\n",
      " 4   salary_in_usd       607 non-null    int64 \n",
      " 5   employee_residence  607 non-null    object\n",
      " 6   remote_ratio        607 non-null    int64 \n",
      " 7   company_location    607 non-null    object\n",
      " 8   company_size        607 non-null    object\n",
      "dtypes: int64(3), object(6)\n",
      "memory usage: 42.8+ KB\n"
     ]
    }
   ],
   "source": [
    "df.info()"
   ]
  },
  {
   "cell_type": "markdown",
   "id": "06296866",
   "metadata": {},
   "source": [
    "<b>Finally, we got <mark>9 columns</mark> with 607 rows:</b><br><br>\n",
    "<b>3 numeric columns</b>: (1)<u>work_year</u>, (2)<u>salary_in_usd</u>, (3)<u>remote_ratio</u><br><br>\n",
    "<b>6 categorical columns</b>: (1)<u>experience_level</u>, (2)<u>employment_type</u>, (3)<u>job_title</u>, (4)<u>employee_residense</u>, (5)<u>company_location</u>, (6)<u>company_size</u>"
   ]
  },
  {
   "cell_type": "code",
   "execution_count": 7,
   "id": "caa111a9",
   "metadata": {
    "scrolled": true
   },
   "outputs": [
    {
     "data": {
      "text/html": [
       "<div>\n",
       "<style scoped>\n",
       "    .dataframe tbody tr th:only-of-type {\n",
       "        vertical-align: middle;\n",
       "    }\n",
       "\n",
       "    .dataframe tbody tr th {\n",
       "        vertical-align: top;\n",
       "    }\n",
       "\n",
       "    .dataframe thead th {\n",
       "        text-align: right;\n",
       "    }\n",
       "</style>\n",
       "<table border=\"1\" class=\"dataframe\">\n",
       "  <thead>\n",
       "    <tr style=\"text-align: right;\">\n",
       "      <th></th>\n",
       "      <th>work_year</th>\n",
       "      <th>experience_level</th>\n",
       "      <th>employment_type</th>\n",
       "      <th>job_title</th>\n",
       "      <th>salary_in_usd</th>\n",
       "      <th>employee_residence</th>\n",
       "      <th>remote_ratio</th>\n",
       "      <th>company_location</th>\n",
       "      <th>company_size</th>\n",
       "    </tr>\n",
       "  </thead>\n",
       "  <tbody>\n",
       "    <tr>\n",
       "      <th>0</th>\n",
       "      <td>2020</td>\n",
       "      <td>MI</td>\n",
       "      <td>FT</td>\n",
       "      <td>Data Scientist</td>\n",
       "      <td>79833</td>\n",
       "      <td>DE</td>\n",
       "      <td>0</td>\n",
       "      <td>DE</td>\n",
       "      <td>L</td>\n",
       "    </tr>\n",
       "    <tr>\n",
       "      <th>1</th>\n",
       "      <td>2020</td>\n",
       "      <td>SE</td>\n",
       "      <td>FT</td>\n",
       "      <td>Machine Learning Scientist</td>\n",
       "      <td>260000</td>\n",
       "      <td>JP</td>\n",
       "      <td>0</td>\n",
       "      <td>JP</td>\n",
       "      <td>S</td>\n",
       "    </tr>\n",
       "    <tr>\n",
       "      <th>2</th>\n",
       "      <td>2020</td>\n",
       "      <td>SE</td>\n",
       "      <td>FT</td>\n",
       "      <td>Big Data Engineer</td>\n",
       "      <td>109024</td>\n",
       "      <td>GB</td>\n",
       "      <td>50</td>\n",
       "      <td>GB</td>\n",
       "      <td>M</td>\n",
       "    </tr>\n",
       "    <tr>\n",
       "      <th>3</th>\n",
       "      <td>2020</td>\n",
       "      <td>MI</td>\n",
       "      <td>FT</td>\n",
       "      <td>Product Data Analyst</td>\n",
       "      <td>20000</td>\n",
       "      <td>HN</td>\n",
       "      <td>0</td>\n",
       "      <td>HN</td>\n",
       "      <td>S</td>\n",
       "    </tr>\n",
       "    <tr>\n",
       "      <th>4</th>\n",
       "      <td>2020</td>\n",
       "      <td>SE</td>\n",
       "      <td>FT</td>\n",
       "      <td>Machine Learning Engineer</td>\n",
       "      <td>150000</td>\n",
       "      <td>US</td>\n",
       "      <td>50</td>\n",
       "      <td>US</td>\n",
       "      <td>L</td>\n",
       "    </tr>\n",
       "  </tbody>\n",
       "</table>\n",
       "</div>"
      ],
      "text/plain": [
       "   work_year experience_level employment_type                   job_title  \\\n",
       "0       2020               MI              FT              Data Scientist   \n",
       "1       2020               SE              FT  Machine Learning Scientist   \n",
       "2       2020               SE              FT           Big Data Engineer   \n",
       "3       2020               MI              FT        Product Data Analyst   \n",
       "4       2020               SE              FT   Machine Learning Engineer   \n",
       "\n",
       "   salary_in_usd employee_residence  remote_ratio company_location  \\\n",
       "0          79833                 DE             0               DE   \n",
       "1         260000                 JP             0               JP   \n",
       "2         109024                 GB            50               GB   \n",
       "3          20000                 HN             0               HN   \n",
       "4         150000                 US            50               US   \n",
       "\n",
       "  company_size  \n",
       "0            L  \n",
       "1            S  \n",
       "2            M  \n",
       "3            S  \n",
       "4            L  "
      ]
     },
     "execution_count": 7,
     "metadata": {},
     "output_type": "execute_result"
    }
   ],
   "source": [
    "df.head()"
   ]
  },
  {
   "cell_type": "code",
   "execution_count": 13,
   "id": "9a8dd27a",
   "metadata": {},
   "outputs": [
    {
     "data": {
      "text/plain": [
       "0"
      ]
     },
     "execution_count": 13,
     "metadata": {},
     "output_type": "execute_result"
    }
   ],
   "source": [
    "df.isnull().sum().sum()\n",
    "\n",
    "# there's no missing value on the dataset."
   ]
  },
  {
   "cell_type": "markdown",
   "id": "ecc8786a",
   "metadata": {},
   "source": [
    "# Explore Categorical Columns"
   ]
  },
  {
   "cell_type": "markdown",
   "id": "292a7a61",
   "metadata": {},
   "source": [
    "<h4>6 categorical columns in the dataset:</h4><br>\n",
    "\n",
    "* Experiece Level\n",
    "* Job Titles\n",
    "* Employment Type\n",
    "* Employee Resdience\n",
    "* Company Location\n",
    "* Company Size."
   ]
  },
  {
   "cell_type": "markdown",
   "id": "9cd8857a",
   "metadata": {},
   "source": [
    "## Experience Level"
   ]
  },
  {
   "cell_type": "markdown",
   "id": "f4e88751",
   "metadata": {},
   "source": [
    "<h4>There's 4 categorical values  in column 'Experience Level', each are: </h4><br>\n",
    "<mark>EN</mark>, which refers to <b>Entry-level / Junior</b> <br>\n",
    "<mark>MI</mark>, which refers to <b>Mid-level / Intermediate</b> <br>\n",
    "<mark>SE</mark>, which refers to <b>Senior-level / Expert</b> <br>\n",
    "<mark>EX</mark>, which refers to <b>Executive-level / Director</b> <br>"
   ]
  },
  {
   "cell_type": "code",
   "execution_count": 14,
   "id": "e5389d20",
   "metadata": {},
   "outputs": [],
   "source": [
    "df['experience_level'] = df['experience_level'].replace('EN','Entry-level/Junior')\n",
    "df['experience_level'] = df['experience_level'].replace('MI','Mid-level/Intermediate')\n",
    "df['experience_level'] = df['experience_level'].replace('SE','Senior-level/Expert')\n",
    "df['experience_level'] = df['experience_level'].replace('EX','Executive-level/Director')\n"
   ]
  },
  {
   "cell_type": "code",
   "execution_count": 43,
   "id": "369ff305",
   "metadata": {},
   "outputs": [
    {
     "data": {
      "text/plain": [
       "Senior-level/Expert         280\n",
       "Mid-level/Intermediate      213\n",
       "Entry-level/Junior           88\n",
       "Executive-level/Director     26\n",
       "Name: experience_level, dtype: int64"
      ]
     },
     "execution_count": 43,
     "metadata": {},
     "output_type": "execute_result"
    }
   ],
   "source": [
    "df['experience_level'].value_counts()"
   ]
  },
  {
   "cell_type": "code",
   "execution_count": 44,
   "id": "ff3aa617",
   "metadata": {},
   "outputs": [
    {
     "data": {
      "image/png": "[encoded data removed]",
      "text/plain": [
       "<Figure size 432x288 with 1 Axes>"
      ]
     },
     "metadata": {
      "needs_background": "light"
     },
     "output_type": "display_data"
    }
   ],
   "source": [
    "sns.histplot(y='experience_level',data=df)\n",
    "plt.show()"
   ]
  },
  {
   "cell_type": "markdown",
   "id": "5634c92b",
   "metadata": {},
   "source": [
    "<p> we can notice that <b>Senior-level/Expert</b> accounts have the most frequent.<br/>and in the last rank with lower frequent <b>Executive-level/Director.<p/>"
   ]
  },
  {
   "cell_type": "markdown",
   "id": "e8f291db",
   "metadata": {},
   "source": [
    "## Job Titles"
   ]
  },
  {
   "cell_type": "markdown",
   "id": "d3bbb4a6",
   "metadata": {},
   "source": [
    "<h4>We'll answer two questions below:</h4>\n",
    "\n",
    "1. <b>How many</b> job titles in the dataset? <br>\n",
    "    \n",
    "2. Which are <b>top 10 frequent</b> job titles?<br>"
   ]
  },
  {
   "cell_type": "code",
   "execution_count": 50,
   "id": "92e0789e",
   "metadata": {
    "scrolled": true
   },
   "outputs": [
    {
     "name": "stdout",
     "output_type": "stream",
     "text": [
      "how many job titles in the dataset:  50\n"
     ]
    }
   ],
   "source": [
    "print('how many job titles in the dataset: ',df['job_title'].value_counts().size)"
   ]
  },
  {
   "cell_type": "markdown",
   "id": "0e770d4a",
   "metadata": {},
   "source": [
    "<b> Seen as above, there's <mark>50 job titles</mark> in the dataset. </b>"
   ]
  },
  {
   "cell_type": "code",
   "execution_count": 52,
   "id": "17a8a246",
   "metadata": {},
   "outputs": [
    {
     "data": {
      "text/plain": [
       "Data Scientist                143\n",
       "Data Engineer                 132\n",
       "Data Analyst                   97\n",
       "Machine Learning Engineer      41\n",
       "Research Scientist             16\n",
       "Data Science Manager           12\n",
       "Data Architect                 11\n",
       "Machine Learning Scientist      8\n",
       "Big Data Engineer               8\n",
       "Director of Data Science        7\n",
       "Name: job_title, dtype: int64"
      ]
     },
     "execution_count": 52,
     "metadata": {},
     "output_type": "execute_result"
    }
   ],
   "source": [
    "top10_job_title = df['job_title'].value_counts()[:10]\n",
    "top10_job_title"
   ]
  },
  {
   "cell_type": "markdown",
   "id": "35f2e458",
   "metadata": {},
   "source": [
    "<b><u><mark>Data scientist</mark></u>, <u><mark>data engineer</mark></u> and <u><mark>data analyst</mark></u> ranked top 3 frequent job titles,"
   ]
  },
  {
   "cell_type": "markdown",
   "id": "3fbc1136",
   "metadata": {},
   "source": [
    "## Employment Type"
   ]
  },
  {
   "cell_type": "markdown",
   "id": "46dfd11a",
   "metadata": {},
   "source": [
    "<h4>4 employment type here, each are:</h4><br>\n",
    "\n",
    "<b>PT</b>: Part-time<br>\n",
    "<b>FT</b>: Full-time<br>\n",
    "<b>CT</b>: Contract<br>\n",
    "<b>FL</b>: Freelance<br>"
   ]
  },
  {
   "cell_type": "markdown",
   "id": "4a5dbff9",
   "metadata": {},
   "source": [
    "<p>What Employment Type is the <b>most frequent</b> ?"
   ]
  },
  {
   "cell_type": "code",
   "execution_count": 60,
   "id": "8deb92b6",
   "metadata": {},
   "outputs": [
    {
     "data": {
      "text/plain": [
       "FT    588\n",
       "Name: employment_type, dtype: int64"
      ]
     },
     "execution_count": 60,
     "metadata": {},
     "output_type": "execute_result"
    }
   ],
   "source": [
    "df['employment_type'].value_counts()[:1]"
   ]
  },
  {
   "cell_type": "code",
   "execution_count": 62,
   "id": "5a7e6dac",
   "metadata": {},
   "outputs": [
    {
     "data": {
      "image/png": "[encoded data removed]",
      "text/plain": [
       "<Figure size 432x288 with 1 Axes>"
      ]
     },
     "metadata": {
      "needs_background": "light"
     },
     "output_type": "display_data"
    }
   ],
   "source": [
    "sns.histplot(x='employment_type',data=df)\n",
    "plt.show()"
   ]
  },
  {
   "cell_type": "markdown",
   "id": "64a2ae93",
   "metadata": {},
   "source": [
    "<p>Seen as above, the Most of employee types are <b>full-time."
   ]
  },
  {
   "cell_type": "markdown",
   "id": "3b7bcc64",
   "metadata": {},
   "source": [
    "## Employee Residence & Company Location"
   ]
  },
  {
   "cell_type": "code",
   "execution_count": 69,
   "id": "5038d8fb",
   "metadata": {},
   "outputs": [],
   "source": [
    "import country_converter as coco\n",
    "\n",
    "converted_country = coco.convert(names=df['employee_residence'], to=\"ISO3\")\n",
    "df['employee_residence'] = converted_country"
   ]
  },
  {
   "cell_type": "markdown",
   "id": "85473dd8",
   "metadata": {},
   "source": [
    "<b>what is the Top 10 Location of Employee ?"
   ]
  },
  {
   "cell_type": "code",
   "execution_count": 72,
   "id": "025f0a55",
   "metadata": {
    "scrolled": true
   },
   "outputs": [
    {
     "data": {
      "text/plain": [
       "USA    332\n",
       "GBR     44\n",
       "IND     30\n",
       "CAN     29\n",
       "DEU     25\n",
       "FRA     18\n",
       "ESP     15\n",
       "GRC     13\n",
       "JPN      7\n",
       "BRA      6\n",
       "Name: employee_residence, dtype: int64"
      ]
     },
     "execution_count": 72,
     "metadata": {},
     "output_type": "execute_result"
    }
   ],
   "source": [
    "df['employee_residence'].value_counts()[:10]\n"
   ]
  },
  {
   "cell_type": "markdown",
   "id": "83ef0f56",
   "metadata": {},
   "source": [
    "<b>From above, it is obvious that most of the employees are from <mark>USA</mark>."
   ]
  },
  {
   "cell_type": "markdown",
   "id": "c6c82e32",
   "metadata": {},
   "source": [
    "## Company Size"
   ]
  },
  {
   "cell_type": "markdown",
   "id": "b730244a",
   "metadata": {},
   "source": [
    "<b>What is the most frequent company size ?"
   ]
  },
  {
   "cell_type": "code",
   "execution_count": 76,
   "id": "9b56cf44",
   "metadata": {
    "scrolled": true
   },
   "outputs": [
    {
     "data": {
      "text/plain": [
       "M    326\n",
       "L    198\n",
       "S     83\n",
       "Name: company_size, dtype: int64"
      ]
     },
     "execution_count": 76,
     "metadata": {},
     "output_type": "execute_result"
    }
   ],
   "source": [
    "df['company_size'].value_counts()"
   ]
  },
  {
   "cell_type": "code",
   "execution_count": 78,
   "id": "d04eb76b",
   "metadata": {},
   "outputs": [
    {
     "data": {
      "image/png": "[encoded data removed]",
      "text/plain": [
       "<Figure size 432x288 with 1 Axes>"
      ]
     },
     "metadata": {
      "needs_background": "light"
     },
     "output_type": "display_data"
    }
   ],
   "source": [
    "sns.histplot(x='company_size',data=df)\n",
    "plt.show()"
   ]
  },
  {
   "cell_type": "markdown",
   "id": "e1fe6937",
   "metadata": {},
   "source": [
    "<b>It can be easily seen that <mark>company size</mark> mostly consists of <mark>medium size</mark>, and the <mark>large size</mark> ranked the next</b>."
   ]
  },
  {
   "cell_type": "markdown",
   "id": "f7d17bb7",
   "metadata": {},
   "source": [
    "# Explore Numeric Columns"
   ]
  },
  {
   "cell_type": "markdown",
   "id": "4e9d873c",
   "metadata": {},
   "source": [
    "<h4>We'll explore 3 numeric columns, each are:</h4>\n",
    "\n",
    "* <b>work_year</b>: The year the salary was paid\n",
    "* <b>salary_in_usd</b>: The salary in USD\n",
    "* <b>remote_ratio</b>: The overall amount of work done remotely,"
   ]
  },
  {
   "cell_type": "markdown",
   "id": "4cb62eb7",
   "metadata": {},
   "source": [
    "## Work Year"
   ]
  },
  {
   "cell_type": "markdown",
   "id": "5c9f863d",
   "metadata": {},
   "source": [
    "<b>What is the most frequent Work Year ?"
   ]
  },
  {
   "cell_type": "code",
   "execution_count": 80,
   "id": "f5e29888",
   "metadata": {
    "scrolled": true
   },
   "outputs": [
    {
     "data": {
      "text/plain": [
       "2022    318\n",
       "2021    217\n",
       "2020     72\n",
       "Name: work_year, dtype: int64"
      ]
     },
     "execution_count": 80,
     "metadata": {},
     "output_type": "execute_result"
    }
   ],
   "source": [
    "df['work_year'].value_counts()"
   ]
  },
  {
   "cell_type": "code",
   "execution_count": 423,
   "id": "bf32e9c1",
   "metadata": {
    "scrolled": false
   },
   "outputs": [
    {
     "data": {
      "image/png": "[encoded data removed]",
      "text/plain": [
       "<Figure size 432x288 with 1 Axes>"
      ]
     },
     "metadata": {},
     "output_type": "display_data"
    }
   ],
   "source": [
    "data=df['work_year'].value_counts()\n",
    "label=data.index.to_list()\n",
    "plt.title('work year distribution')\n",
    "plt.pie(data,labels=label,autopct='%1.0f%%')\n",
    "plt.show()"
   ]
  },
  {
   "cell_type": "markdown",
   "id": "9cc1a066",
   "metadata": {},
   "source": [
    "<b>2022 year data accounts for <mark>52%</mark> in the dataset, the next is 2021, which accounts for <mark>36%</mark>.</b>"
   ]
  },
  {
   "cell_type": "markdown",
   "id": "28a3c6fd",
   "metadata": {},
   "source": [
    "## Salary in USD"
   ]
  },
  {
   "cell_type": "markdown",
   "id": "251419f0",
   "metadata": {},
   "source": [
    "<b>what is the average salary for the top 10 job title?"
   ]
  },
  {
   "cell_type": "code",
   "execution_count": 183,
   "id": "954a0a11",
   "metadata": {
    "scrolled": false
   },
   "outputs": [
    {
     "name": "stdout",
     "output_type": "stream",
     "text": [
      "The Average Salary For ( Data Scientist ) is = 108187.83216783217\n",
      "The Average Salary For ( Data Engineer ) is = 112725.0\n",
      "The Average Salary For ( Data Analyst ) is = 92893.06185567011\n",
      "The Average Salary For ( Machine Learning Engineer ) is = 104880.14634146342\n",
      "The Average Salary For ( Research Scientist ) is = 109019.5\n",
      "The Average Salary For ( Data Science Manager ) is = 158328.5\n",
      "The Average Salary For ( Data Architect ) is = 177873.9090909091\n",
      "The Average Salary For ( Machine Learning Scientist ) is = 158412.5\n",
      "The Average Salary For ( Big Data Engineer ) is = 51974.0\n",
      "The Average Salary For ( Director of Data Science ) is = 195074.0\n"
     ]
    }
   ],
   "source": [
    "for i in df['job_title'].value_counts().index.tolist()[:10]:\n",
    "    AvgSal=df[df['job_title']==i]['salary_in_usd'].mean()\n",
    "    print(f\"The Average Salary For ( {i} ) is =\",AvgSal)"
   ]
  },
  {
   "cell_type": "markdown",
   "id": "19ff26b2",
   "metadata": {},
   "source": [
    "## Remote Ratio"
   ]
  },
  {
   "cell_type": "markdown",
   "id": "87f1ac93",
   "metadata": {},
   "source": [
    "Remote Ratio consists of 3 values: <mark>100, 50, 0</mark>.<br>\n",
    "<b>possible values are as follows: <br>\n",
    "0 :  <u>No remote work</u> <br>\n",
    "50 : <u>Partially remote</u> <br>\n",
    "100 : <u>Fully remote</u></b>"
   ]
  },
  {
   "cell_type": "markdown",
   "id": "7b8c71eb",
   "metadata": {},
   "source": [
    "<b>what is the Remote Ratio Distribution ?"
   ]
  },
  {
   "cell_type": "markdown",
   "id": "cc36ff01",
   "metadata": {},
   "source": [
    "<b>What is the percentage of work done remotely?"
   ]
  },
  {
   "cell_type": "code",
   "execution_count": 144,
   "id": "6ed1b2d4",
   "metadata": {},
   "outputs": [
    {
     "data": {
      "text/plain": [
       "Fully remote        381\n",
       "No remote work      127\n",
       "Partially remote     99\n",
       "Name: remote_ratio, dtype: int64"
      ]
     },
     "execution_count": 144,
     "metadata": {},
     "output_type": "execute_result"
    }
   ],
   "source": [
    "s.value_counts()"
   ]
  },
  {
   "cell_type": "code",
   "execution_count": 142,
   "id": "a306d642",
   "metadata": {
    "scrolled": true
   },
   "outputs": [
    {
     "data": {
      "image/png": "[encoded data removed]",
      "text/plain": [
       "<Figure size 432x288 with 1 Axes>"
      ]
     },
     "metadata": {
      "needs_background": "light"
     },
     "output_type": "display_data"
    }
   ],
   "source": [
    "s=df['remote_ratio'].replace({100:'Fully remote',50:'Partially remote',0:'No remote work'})\n",
    "sns.histplot(x=s,data=df)\n",
    "plt.title(' Remote Ratio Distribution ')\n",
    "plt.show()"
   ]
  },
  {
   "cell_type": "code",
   "execution_count": 426,
   "id": "92eb9432",
   "metadata": {
    "scrolled": true
   },
   "outputs": [
    {
     "data": {
      "image/png": "[encoded data removed]",
      "text/plain": [
       "<Figure size 432x288 with 1 Axes>"
      ]
     },
     "metadata": {},
     "output_type": "display_data"
    }
   ],
   "source": [
    "data=df['remote_ratio'].value_counts()\n",
    "label=data.index.to_list()\n",
    "plt.title('Remote Ratio Distribution')\n",
    "colors = sns.color_palette('pastel')[0:3]\n",
    "explode=[0.1,0,0]\n",
    "plt.pie(data,labels=label,autopct='%1.0f%%',colors=colors,explode=explode)\n",
    "plt.show()"
   ]
  },
  {
   "cell_type": "markdown",
   "id": "d8cce5b1",
   "metadata": {},
   "source": [
    "<b>381(63%) of works are <mark>fully remoted</mark>, and <mark>no remote work</mark> ranked the next, with count of 127(21%).</b>"
   ]
  },
  {
   "cell_type": "code",
   "execution_count": 160,
   "id": "0bae19d1",
   "metadata": {
    "scrolled": true
   },
   "outputs": [
    {
     "data": {
      "text/html": [
       "<div>\n",
       "<style scoped>\n",
       "    .dataframe tbody tr th:only-of-type {\n",
       "        vertical-align: middle;\n",
       "    }\n",
       "\n",
       "    .dataframe tbody tr th {\n",
       "        vertical-align: top;\n",
       "    }\n",
       "\n",
       "    .dataframe thead th {\n",
       "        text-align: right;\n",
       "    }\n",
       "</style>\n",
       "<table border=\"1\" class=\"dataframe\">\n",
       "  <thead>\n",
       "    <tr style=\"text-align: right;\">\n",
       "      <th></th>\n",
       "      <th>work_year</th>\n",
       "      <th>experience_level</th>\n",
       "      <th>employment_type</th>\n",
       "      <th>job_title</th>\n",
       "      <th>salary_in_usd</th>\n",
       "      <th>employee_residence</th>\n",
       "      <th>remote_ratio</th>\n",
       "      <th>company_location</th>\n",
       "      <th>company_size</th>\n",
       "    </tr>\n",
       "  </thead>\n",
       "  <tbody>\n",
       "    <tr>\n",
       "      <th>0</th>\n",
       "      <td>2020</td>\n",
       "      <td>Mid-level/Intermediate</td>\n",
       "      <td>FT</td>\n",
       "      <td>Data Scientist</td>\n",
       "      <td>79833</td>\n",
       "      <td>DEU</td>\n",
       "      <td>0</td>\n",
       "      <td>DE</td>\n",
       "      <td>L</td>\n",
       "    </tr>\n",
       "    <tr>\n",
       "      <th>1</th>\n",
       "      <td>2020</td>\n",
       "      <td>Senior-level/Expert</td>\n",
       "      <td>FT</td>\n",
       "      <td>Machine Learning Scientist</td>\n",
       "      <td>260000</td>\n",
       "      <td>JPN</td>\n",
       "      <td>0</td>\n",
       "      <td>JP</td>\n",
       "      <td>S</td>\n",
       "    </tr>\n",
       "    <tr>\n",
       "      <th>2</th>\n",
       "      <td>2020</td>\n",
       "      <td>Senior-level/Expert</td>\n",
       "      <td>FT</td>\n",
       "      <td>Big Data Engineer</td>\n",
       "      <td>109024</td>\n",
       "      <td>GBR</td>\n",
       "      <td>50</td>\n",
       "      <td>GB</td>\n",
       "      <td>M</td>\n",
       "    </tr>\n",
       "    <tr>\n",
       "      <th>3</th>\n",
       "      <td>2020</td>\n",
       "      <td>Mid-level/Intermediate</td>\n",
       "      <td>FT</td>\n",
       "      <td>Product Data Analyst</td>\n",
       "      <td>20000</td>\n",
       "      <td>HND</td>\n",
       "      <td>0</td>\n",
       "      <td>HN</td>\n",
       "      <td>S</td>\n",
       "    </tr>\n",
       "    <tr>\n",
       "      <th>4</th>\n",
       "      <td>2020</td>\n",
       "      <td>Senior-level/Expert</td>\n",
       "      <td>FT</td>\n",
       "      <td>Machine Learning Engineer</td>\n",
       "      <td>150000</td>\n",
       "      <td>USA</td>\n",
       "      <td>50</td>\n",
       "      <td>US</td>\n",
       "      <td>L</td>\n",
       "    </tr>\n",
       "  </tbody>\n",
       "</table>\n",
       "</div>"
      ],
      "text/plain": [
       "   work_year        experience_level employment_type  \\\n",
       "0       2020  Mid-level/Intermediate              FT   \n",
       "1       2020     Senior-level/Expert              FT   \n",
       "2       2020     Senior-level/Expert              FT   \n",
       "3       2020  Mid-level/Intermediate              FT   \n",
       "4       2020     Senior-level/Expert              FT   \n",
       "\n",
       "                    job_title  salary_in_usd employee_residence  remote_ratio  \\\n",
       "0              Data Scientist          79833                DEU             0   \n",
       "1  Machine Learning Scientist         260000                JPN             0   \n",
       "2           Big Data Engineer         109024                GBR            50   \n",
       "3        Product Data Analyst          20000                HND             0   \n",
       "4   Machine Learning Engineer         150000                USA            50   \n",
       "\n",
       "  company_location company_size  \n",
       "0               DE            L  \n",
       "1               JP            S  \n",
       "2               GB            M  \n",
       "3               HN            S  \n",
       "4               US            L  "
      ]
     },
     "execution_count": 160,
     "metadata": {},
     "output_type": "execute_result"
    }
   ],
   "source": [
    "df.head()"
   ]
  },
  {
   "cell_type": "markdown",
   "id": "b197c882",
   "metadata": {},
   "source": [
    "# some EDA questions \n",
    "\n",
    "### Think deeply in the data!\n",
    "What distinguishes a data analyst from other analysts are <b> \"the questions he/she asks\"."
   ]
  },
  {
   "cell_type": "markdown",
   "id": "1962e3ce",
   "metadata": {},
   "source": [
    "## for top 10 job title, what is type of work(remotle fully,partial,no remotle) most common ?"
   ]
  },
  {
   "cell_type": "code",
   "execution_count": 242,
   "id": "07dbe355",
   "metadata": {},
   "outputs": [],
   "source": [
    "df['remote_ratio']=df['remote_ratio'].replace({100:'Fully remote',50:'Partially remote',0:'No remote work'})\n"
   ]
  },
  {
   "cell_type": "code",
   "execution_count": 218,
   "id": "ddc176a4",
   "metadata": {
    "scrolled": true
   },
   "outputs": [
    {
     "name": "stdout",
     "output_type": "stream",
     "text": [
      "for ( Data Scientist ) most frequnt type of work is : Fully remote\n",
      "for ( Data Engineer ) most frequnt type of work is : Fully remote\n",
      "for ( Data Analyst ) most frequnt type of work is : Fully remote\n",
      "for ( Machine Learning Engineer ) most frequnt type of work is : Fully remote\n",
      "for ( Research Scientist ) most frequnt type of work is : Partially remote\n",
      "for ( Data Science Manager ) most frequnt type of work is : Fully remote\n",
      "for ( Data Architect ) most frequnt type of work is : Fully remote\n",
      "for ( Machine Learning Scientist ) most frequnt type of work is : Fully remote\n",
      "for ( Big Data Engineer ) most frequnt type of work is : Fully remote\n",
      "for ( Director of Data Science ) most frequnt type of work is : No remote work\n"
     ]
    }
   ],
   "source": [
    "for i in df['job_title'].value_counts().index.tolist()[:10]:\n",
    "    TW=df[df['job_title']==i]['remote_ratio'].mode()[0]\n",
    "    print(f\"for ( {i} ) most frequnt type of work is :\",TW)"
   ]
  },
  {
   "cell_type": "markdown",
   "id": "1eece538",
   "metadata": {},
   "source": [
    "\n",
    "## what type of work the companies adopt in 2020,2021,2022?\n"
   ]
  },
  {
   "cell_type": "code",
   "execution_count": 223,
   "id": "d62f8002",
   "metadata": {},
   "outputs": [
    {
     "name": "stdout",
     "output_type": "stream",
     "text": [
      "in 2022 companies adopt Fully remote\n",
      "in 2021 companies adopt Fully remote\n",
      "in 2020 companies adopt Fully remote\n"
     ]
    }
   ],
   "source": [
    "for i in df['work_year'].value_counts().index.tolist():\n",
    "    s=df[df['work_year']==i]['remote_ratio'].mode()[0]\n",
    "    print(f'in {i} companies adopt {s}')\n"
   ]
  },
  {
   "cell_type": "code",
   "execution_count": 427,
   "id": "c92cc790",
   "metadata": {
    "scrolled": false
   },
   "outputs": [
    {
     "data": {
      "image/png": "[encoded data removed]",
      "text/plain": [
       "<Figure size 432x288 with 1 Axes>"
      ]
     },
     "metadata": {},
     "output_type": "display_data"
    }
   ],
   "source": [
    "data=df[df['work_year']==2020]['remote_ratio'].value_counts()\n",
    "label=data.index.to_list()\n",
    "plt.title('Remote Ratio Distribution in 2020')\n",
    "colors = sns.color_palette('pastel')[0:3]\n",
    "plt.pie(data,labels=label,autopct='%1.0f%%',colors=colors)\n",
    "plt.show()\n"
   ]
  },
  {
   "cell_type": "code",
   "execution_count": 429,
   "id": "0c3a5ec9",
   "metadata": {},
   "outputs": [
    {
     "data": {
      "image/png": "[encoded data removed]",
      "text/plain": [
       "<Figure size 432x288 with 1 Axes>"
      ]
     },
     "metadata": {},
     "output_type": "display_data"
    }
   ],
   "source": [
    "data=df[df['work_year']==2021]['remote_ratio'].value_counts()\n",
    "label=data.index.to_list()\n",
    "plt.title('Remote Ratio Distribution in 2021')\n",
    "colors = sns.color_palette('pastel')[0:3]\n",
    "plt.pie(data,labels=label,autopct='%1.0f%%',colors=colors)\n",
    "plt.show()"
   ]
  },
  {
   "cell_type": "code",
   "execution_count": 430,
   "id": "74218006",
   "metadata": {},
   "outputs": [
    {
     "data": {
      "image/png": "[encoded data removed]",
      "text/plain": [
       "<Figure size 432x288 with 1 Axes>"
      ]
     },
     "metadata": {},
     "output_type": "display_data"
    }
   ],
   "source": [
    "data=df[df['work_year']==2022]['remote_ratio'].value_counts()\n",
    "label=data.index.to_list()\n",
    "plt.title('Remote Ratio Distribution in 2022')\n",
    "colors = sns.color_palette('pastel')[0:3]\n",
    "plt.pie(data,labels=label,autopct='%1.0f%%',colors=colors)\n",
    "plt.show()"
   ]
  },
  {
   "cell_type": "markdown",
   "id": "2b9c9bb9",
   "metadata": {},
   "source": [
    "## For each type of employment, what will be the most common level of experience ?"
   ]
  },
  {
   "cell_type": "code",
   "execution_count": 243,
   "id": "3051d8d1",
   "metadata": {},
   "outputs": [],
   "source": [
    "df['employment_type']=df['employment_type'].replace({'PT':'Part-time','FT':'Full-time','CT':'Contract','FL':'Freelance'})\n"
   ]
  },
  {
   "cell_type": "code",
   "execution_count": 431,
   "id": "5ce4ed70",
   "metadata": {
    "scrolled": false
   },
   "outputs": [
    {
     "data": {
      "image/png": "[encoded data removed]",
      "text/plain": [
       "<Figure size 432x288 with 1 Axes>"
      ]
     },
     "metadata": {},
     "output_type": "display_data"
    }
   ],
   "source": [
    "data=df[df['employment_type']=='Full-time']['experience_level'].value_counts()\n",
    "label=data.index.tolist()\n",
    "plt.title('full-time employment')\n",
    "plt.pie(data,labels=label,autopct='%1.0f%%')\n",
    "plt.show()"
   ]
  },
  {
   "cell_type": "markdown",
   "id": "d876c39b",
   "metadata": {},
   "source": [
    "<b> By 47%, most of the people who work full time are senior-level, and by 35% are mid-level, and the rest of the percentages are distributed among the remaining types of experience\n"
   ]
  },
  {
   "cell_type": "code",
   "execution_count": 432,
   "id": "67b338b5",
   "metadata": {
    "scrolled": true
   },
   "outputs": [
    {
     "data": {
      "image/png": "[encoded data removed]",
      "text/plain": [
       "<Figure size 432x288 with 1 Axes>"
      ]
     },
     "metadata": {},
     "output_type": "display_data"
    }
   ],
   "source": [
    "data=df[df['employment_type']=='Part-time']['experience_level'].value_counts()\n",
    "label=data.index.tolist()\n",
    "plt.title('part-time employment')\n",
    "plt.pie(data,labels=label,autopct='%1.0f%%')\n",
    "plt.show()"
   ]
  },
  {
   "cell_type": "markdown",
   "id": "65b7f07f",
   "metadata": {},
   "source": [
    "<b> 70% of the people who work part time are entry-level and 30% are mid-level\n"
   ]
  },
  {
   "cell_type": "code",
   "execution_count": 433,
   "id": "24cfd7bd",
   "metadata": {
    "scrolled": true
   },
   "outputs": [
    {
     "data": {
      "image/png": "[encoded data removed]",
      "text/plain": [
       "<Figure size 432x288 with 1 Axes>"
      ]
     },
     "metadata": {},
     "output_type": "display_data"
    }
   ],
   "source": [
    "data=df[df['employment_type']=='Contract']['experience_level'].value_counts()\n",
    "label=data.index.tolist()\n",
    "plt.title('Contract employment')\n",
    "plt.pie(data,labels=label,autopct='%1.0f%%')\n",
    "plt.show()"
   ]
  },
  {
   "cell_type": "markdown",
   "id": "e92b28ad",
   "metadata": {},
   "source": [
    "<b> By 40%, most people who have a contract are entry-level people, and by 20% equally for the rest of the types of experience\n"
   ]
  },
  {
   "cell_type": "code",
   "execution_count": 434,
   "id": "826e55a0",
   "metadata": {
    "scrolled": true
   },
   "outputs": [
    {
     "data": {
      "image/png": "[encoded data removed]",
      "text/plain": [
       "<Figure size 432x288 with 1 Axes>"
      ]
     },
     "metadata": {},
     "output_type": "display_data"
    }
   ],
   "source": [
    "data=df[df['employment_type']=='Freelance']['experience_level'].value_counts()\n",
    "label=data.index.tolist()\n",
    "plt.title('Freelance employment')\n",
    "plt.pie(data,labels=label,autopct='%1.0f%%')\n",
    "plt.show()"
   ]
  },
  {
   "cell_type": "markdown",
   "id": "525f25c0",
   "metadata": {},
   "source": [
    "<b> 75% of people who work freelance are people who have mid-level and by 25% are people who have senior-level"
   ]
  },
  {
   "cell_type": "code",
   "execution_count": 244,
   "id": "1b4b74be",
   "metadata": {
    "scrolled": true
   },
   "outputs": [
    {
     "data": {
      "text/html": [
       "<div>\n",
       "<style scoped>\n",
       "    .dataframe tbody tr th:only-of-type {\n",
       "        vertical-align: middle;\n",
       "    }\n",
       "\n",
       "    .dataframe tbody tr th {\n",
       "        vertical-align: top;\n",
       "    }\n",
       "\n",
       "    .dataframe thead th {\n",
       "        text-align: right;\n",
       "    }\n",
       "</style>\n",
       "<table border=\"1\" class=\"dataframe\">\n",
       "  <thead>\n",
       "    <tr style=\"text-align: right;\">\n",
       "      <th></th>\n",
       "      <th>work_year</th>\n",
       "      <th>experience_level</th>\n",
       "      <th>employment_type</th>\n",
       "      <th>job_title</th>\n",
       "      <th>salary_in_usd</th>\n",
       "      <th>employee_residence</th>\n",
       "      <th>remote_ratio</th>\n",
       "      <th>company_location</th>\n",
       "      <th>company_size</th>\n",
       "    </tr>\n",
       "  </thead>\n",
       "  <tbody>\n",
       "    <tr>\n",
       "      <th>0</th>\n",
       "      <td>2020</td>\n",
       "      <td>Mid-level/Intermediate</td>\n",
       "      <td>Full-time</td>\n",
       "      <td>Data Scientist</td>\n",
       "      <td>79833</td>\n",
       "      <td>DEU</td>\n",
       "      <td>No remote work</td>\n",
       "      <td>DE</td>\n",
       "      <td>L</td>\n",
       "    </tr>\n",
       "    <tr>\n",
       "      <th>1</th>\n",
       "      <td>2020</td>\n",
       "      <td>Senior-level/Expert</td>\n",
       "      <td>Full-time</td>\n",
       "      <td>Machine Learning Scientist</td>\n",
       "      <td>260000</td>\n",
       "      <td>JPN</td>\n",
       "      <td>No remote work</td>\n",
       "      <td>JP</td>\n",
       "      <td>S</td>\n",
       "    </tr>\n",
       "    <tr>\n",
       "      <th>2</th>\n",
       "      <td>2020</td>\n",
       "      <td>Senior-level/Expert</td>\n",
       "      <td>Full-time</td>\n",
       "      <td>Big Data Engineer</td>\n",
       "      <td>109024</td>\n",
       "      <td>GBR</td>\n",
       "      <td>Partially remote</td>\n",
       "      <td>GB</td>\n",
       "      <td>M</td>\n",
       "    </tr>\n",
       "    <tr>\n",
       "      <th>3</th>\n",
       "      <td>2020</td>\n",
       "      <td>Mid-level/Intermediate</td>\n",
       "      <td>Full-time</td>\n",
       "      <td>Product Data Analyst</td>\n",
       "      <td>20000</td>\n",
       "      <td>HND</td>\n",
       "      <td>No remote work</td>\n",
       "      <td>HN</td>\n",
       "      <td>S</td>\n",
       "    </tr>\n",
       "    <tr>\n",
       "      <th>4</th>\n",
       "      <td>2020</td>\n",
       "      <td>Senior-level/Expert</td>\n",
       "      <td>Full-time</td>\n",
       "      <td>Machine Learning Engineer</td>\n",
       "      <td>150000</td>\n",
       "      <td>USA</td>\n",
       "      <td>Partially remote</td>\n",
       "      <td>US</td>\n",
       "      <td>L</td>\n",
       "    </tr>\n",
       "  </tbody>\n",
       "</table>\n",
       "</div>"
      ],
      "text/plain": [
       "   work_year        experience_level employment_type  \\\n",
       "0       2020  Mid-level/Intermediate       Full-time   \n",
       "1       2020     Senior-level/Expert       Full-time   \n",
       "2       2020     Senior-level/Expert       Full-time   \n",
       "3       2020  Mid-level/Intermediate       Full-time   \n",
       "4       2020     Senior-level/Expert       Full-time   \n",
       "\n",
       "                    job_title  salary_in_usd employee_residence  \\\n",
       "0              Data Scientist          79833                DEU   \n",
       "1  Machine Learning Scientist         260000                JPN   \n",
       "2           Big Data Engineer         109024                GBR   \n",
       "3        Product Data Analyst          20000                HND   \n",
       "4   Machine Learning Engineer         150000                USA   \n",
       "\n",
       "       remote_ratio company_location company_size  \n",
       "0    No remote work               DE            L  \n",
       "1    No remote work               JP            S  \n",
       "2  Partially remote               GB            M  \n",
       "3    No remote work               HN            S  \n",
       "4  Partially remote               US            L  "
      ]
     },
     "execution_count": 244,
     "metadata": {},
     "output_type": "execute_result"
    }
   ],
   "source": [
    "df.head()"
   ]
  },
  {
   "cell_type": "markdown",
   "id": "8bdbff78",
   "metadata": {},
   "source": [
    "## what is the top 3 Job Title for each Experience Level ?"
   ]
  },
  {
   "cell_type": "code",
   "execution_count": 293,
   "id": "2fe3b2b1",
   "metadata": {
    "scrolled": true
   },
   "outputs": [
    {
     "data": {
      "image/png": "[encoded data removed]",
      "text/plain": [
       "<Figure size 432x288 with 1 Axes>"
      ]
     },
     "metadata": {},
     "output_type": "display_data"
    }
   ],
   "source": [
    "data=df[df['experience_level']=='Senior-level/Expert']['job_title'].value_counts()[:3]\n",
    "labels=data.index.tolist()\n",
    "plt.title('The Top 3 job title for Senior-level/Expert')\n",
    "plt.pie(data,labels=labels,autopct='%1.0f%%')\n",
    "plt.show()"
   ]
  },
  {
   "cell_type": "markdown",
   "id": "e297c39a",
   "metadata": {},
   "source": [
    "<b>Senior-level/Expert</b> tends to have <mark><b>data engineer</b> and <b>data sceintist position</b></mark> rather then analyst;"
   ]
  },
  {
   "cell_type": "code",
   "execution_count": 294,
   "id": "ba9f9281",
   "metadata": {
    "scrolled": false
   },
   "outputs": [
    {
     "data": {
      "image/png": "[encoded data removed]",
      "text/plain": [
       "<Figure size 432x288 with 1 Axes>"
      ]
     },
     "metadata": {},
     "output_type": "display_data"
    }
   ],
   "source": [
    "data=df[df['experience_level']=='Mid-level/Intermediate']['job_title'].value_counts()[:3]\n",
    "labels=data.index.tolist()\n",
    "plt.title('The Top 3 job title for Mid-level/Intermediate')\n",
    "plt.pie(data,labels=labels,autopct='%1.0f%%')\n",
    "plt.show()"
   ]
  },
  {
   "cell_type": "markdown",
   "id": "b2ab42e3",
   "metadata": {},
   "source": [
    "<b>Mid-level/Intermediate</b> tends to have <mark><b>data sceintist</b> and <b>data engineer position</b></mark> rather then analyst;"
   ]
  },
  {
   "cell_type": "code",
   "execution_count": 295,
   "id": "0b95002f",
   "metadata": {},
   "outputs": [
    {
     "data": {
      "image/png": "[encoded data removed]",
      "text/plain": [
       "<Figure size 432x288 with 1 Axes>"
      ]
     },
     "metadata": {},
     "output_type": "display_data"
    }
   ],
   "source": [
    "data=df[df['experience_level']=='Entry-level/Junior']['job_title'].value_counts()[:3]\n",
    "labels=data.index.tolist()\n",
    "plt.title('The Top 3 job title for Entry-level/Junior')\n",
    "plt.pie(data,labels=labels,autopct='%1.0f%%')\n",
    "plt.show()"
   ]
  },
  {
   "cell_type": "markdown",
   "id": "06983e25",
   "metadata": {},
   "source": [
    "  <b>Entry-level/Junior</b> tends to have <mark><b>data scientist position</b></mark> rather than data analyst and data engineer;"
   ]
  },
  {
   "cell_type": "code",
   "execution_count": 297,
   "id": "7cf6468a",
   "metadata": {},
   "outputs": [
    {
     "data": {
      "image/png": "[encoded data removed]",
      "text/plain": [
       "<Figure size 432x288 with 1 Axes>"
      ]
     },
     "metadata": {},
     "output_type": "display_data"
    }
   ],
   "source": [
    "data=df[df['experience_level']=='Executive-level/Director']['job_title'].value_counts()[:3]\n",
    "labels=data.index.tolist()\n",
    "plt.title('The Top 3 job title for Executive-level/Director')\n",
    "plt.pie(data,labels=labels,autopct='%1.0f%%')\n",
    "plt.show()"
   ]
  },
  {
   "cell_type": "markdown",
   "id": "46fc7aa7",
   "metadata": {},
   "source": [
    "Obviously, there's no data scientist and analyst job with <b>Executive-level/Director</b>, but tends to have <mark><b>data engineer</b> and <b>director position</b></mark>."
   ]
  },
  {
   "cell_type": "markdown",
   "id": "eea8539c",
   "metadata": {},
   "source": [
    "## what is the average of salaries in each work year ?"
   ]
  },
  {
   "cell_type": "code",
   "execution_count": 309,
   "id": "beef6633",
   "metadata": {},
   "outputs": [
    {
     "name": "stdout",
     "output_type": "stream",
     "text": [
      "the average of salaries in 2020 :  95813.0\n"
     ]
    }
   ],
   "source": [
    "print(\"the average of salaries in 2020 : \",df[df['work_year']==2020]['salary_in_usd'].mean())"
   ]
  },
  {
   "cell_type": "code",
   "execution_count": 310,
   "id": "5590d6c9",
   "metadata": {},
   "outputs": [
    {
     "name": "stdout",
     "output_type": "stream",
     "text": [
      "the average of salaries in 2021 :  99853.79262672811\n"
     ]
    }
   ],
   "source": [
    "print(\"the average of salaries in 2021 : \",df[df['work_year']==2021]['salary_in_usd'].mean())"
   ]
  },
  {
   "cell_type": "code",
   "execution_count": 311,
   "id": "a53a33a5",
   "metadata": {},
   "outputs": [
    {
     "name": "stdout",
     "output_type": "stream",
     "text": [
      "the average of salaries in 2022 :  124522.00628930818\n"
     ]
    }
   ],
   "source": [
    "print(\"the average of salaries in 2022 : \",df[df['work_year']==2022]['salary_in_usd'].mean())"
   ]
  },
  {
   "cell_type": "markdown",
   "id": "413285b0",
   "metadata": {},
   "source": [
    "* <b>We note that the average salaries in 2022 are higher than the average salaries of 2020 and 2021</b><br>\n",
    "* <b>and We note that the average salaries in 2021 and 2020 are about the same.</b>"
   ]
  },
  {
   "cell_type": "markdown",
   "id": "848f3101",
   "metadata": {},
   "source": [
    "## what is the average of salaries in each Experience Level ?"
   ]
  },
  {
   "cell_type": "code",
   "execution_count": 321,
   "id": "ddf067fc",
   "metadata": {
    "scrolled": true
   },
   "outputs": [
    {
     "name": "stdout",
     "output_type": "stream",
     "text": [
      "the average of salaries for Executive-level/Director :  199392.03846153847\n"
     ]
    }
   ],
   "source": [
    "print(\"the average of salaries for Executive-level/Director : \",\n",
    "      df[df['experience_level']=='Executive-level/Director']['salary_in_usd'].mean())"
   ]
  },
  {
   "cell_type": "code",
   "execution_count": 322,
   "id": "dcf400c0",
   "metadata": {},
   "outputs": [
    {
     "name": "stdout",
     "output_type": "stream",
     "text": [
      "the average of salaries for Senior-level/Expert :  138617.29285714286\n"
     ]
    }
   ],
   "source": [
    "print(\"the average of salaries for Senior-level/Expert : \",\n",
    "      df[df['experience_level']=='Senior-level/Expert']['salary_in_usd'].mean())"
   ]
  },
  {
   "cell_type": "code",
   "execution_count": 323,
   "id": "59fe7f7e",
   "metadata": {},
   "outputs": [
    {
     "name": "stdout",
     "output_type": "stream",
     "text": [
      "the average of salaries for Mid-level/Intermediate :  87996.05633802817\n"
     ]
    }
   ],
   "source": [
    "print(\"the average of salaries for Mid-level/Intermediate : \",\n",
    "      df[df['experience_level']=='Mid-level/Intermediate']['salary_in_usd'].mean())"
   ]
  },
  {
   "cell_type": "code",
   "execution_count": 324,
   "id": "21e66d85",
   "metadata": {
    "scrolled": true
   },
   "outputs": [
    {
     "name": "stdout",
     "output_type": "stream",
     "text": [
      "the average of salaries for Entry-level/Junior :  61643.318181818184\n"
     ]
    }
   ],
   "source": [
    "print(\"the average of salaries for Entry-level/Junior : \",\n",
    "      df[df['experience_level']=='Entry-level/Junior']['salary_in_usd'].mean())"
   ]
  },
  {
   "cell_type": "markdown",
   "id": "90ecd0ba",
   "metadata": {},
   "source": [
    "* <p> We can note that the highest average salaries among all experience Levels was the <b>Executive-level/Director</b> and the lowest average salaries was <b>Entry-level/Junior</b></p>."
   ]
  },
  {
   "cell_type": "markdown",
   "id": "cd03fca8",
   "metadata": {},
   "source": [
    "## What is the average salary in each type of company?  \n",
    "<li>Do large companies have higher average salaries? </li>\n",
    "<li>do the increase in the size of the company, lead to higher the average salary in it?</li>"
   ]
  },
  {
   "cell_type": "code",
   "execution_count": 327,
   "id": "081ce204",
   "metadata": {},
   "outputs": [
    {
     "data": {
      "text/plain": [
       "119242.99494949495"
      ]
     },
     "execution_count": 327,
     "metadata": {},
     "output_type": "execute_result"
    }
   ],
   "source": [
    "df[df['company_size']=='L']['salary_in_usd'].mean()"
   ]
  },
  {
   "cell_type": "code",
   "execution_count": 329,
   "id": "525910ee",
   "metadata": {},
   "outputs": [
    {
     "data": {
      "text/plain": [
       "116905.46625766871"
      ]
     },
     "execution_count": 329,
     "metadata": {},
     "output_type": "execute_result"
    }
   ],
   "source": [
    "df[df['company_size']=='M']['salary_in_usd'].mean()"
   ]
  },
  {
   "cell_type": "code",
   "execution_count": 328,
   "id": "9ead8169",
   "metadata": {},
   "outputs": [
    {
     "data": {
      "text/plain": [
       "77632.67469879518"
      ]
     },
     "execution_count": 328,
     "metadata": {},
     "output_type": "execute_result"
    }
   ],
   "source": [
    "df[df['company_size']=='S']['salary_in_usd'].mean()"
   ]
  },
  {
   "cell_type": "markdown",
   "id": "1ae9e7f6",
   "metadata": {},
   "source": [
    "<ul><b>Do large companies have higher average salaries ?</b>\n",
    "<li>We note that large-sized companies have the highest average salaries, but this is not always true because we note that medium-sized companies also have a high average salary and are very close to large-sized companies.</li>\n",
    "<li>I would not be surprised if I found a small-sized company with a high average salary, but the percentage of this matter being there is somewhat low, but it is not impossible.</li></ul>\n",
    "</br>\n",
    "<ul><b>do the increase in the size of the company, lead to higher the average salary in it?</b>\n",
    "<li> to a very large extent, yes.</li></ul>\n"
   ]
  },
  {
   "cell_type": "code",
   "execution_count": 330,
   "id": "239181db",
   "metadata": {
    "scrolled": true
   },
   "outputs": [
    {
     "data": {
      "text/html": [
       "<div>\n",
       "<style scoped>\n",
       "    .dataframe tbody tr th:only-of-type {\n",
       "        vertical-align: middle;\n",
       "    }\n",
       "\n",
       "    .dataframe tbody tr th {\n",
       "        vertical-align: top;\n",
       "    }\n",
       "\n",
       "    .dataframe thead th {\n",
       "        text-align: right;\n",
       "    }\n",
       "</style>\n",
       "<table border=\"1\" class=\"dataframe\">\n",
       "  <thead>\n",
       "    <tr style=\"text-align: right;\">\n",
       "      <th></th>\n",
       "      <th>work_year</th>\n",
       "      <th>experience_level</th>\n",
       "      <th>employment_type</th>\n",
       "      <th>job_title</th>\n",
       "      <th>salary_in_usd</th>\n",
       "      <th>employee_residence</th>\n",
       "      <th>remote_ratio</th>\n",
       "      <th>company_location</th>\n",
       "      <th>company_size</th>\n",
       "    </tr>\n",
       "  </thead>\n",
       "  <tbody>\n",
       "    <tr>\n",
       "      <th>0</th>\n",
       "      <td>2020</td>\n",
       "      <td>Mid-level/Intermediate</td>\n",
       "      <td>Full-time</td>\n",
       "      <td>Data Scientist</td>\n",
       "      <td>79833</td>\n",
       "      <td>DEU</td>\n",
       "      <td>No remote work</td>\n",
       "      <td>DE</td>\n",
       "      <td>L</td>\n",
       "    </tr>\n",
       "    <tr>\n",
       "      <th>1</th>\n",
       "      <td>2020</td>\n",
       "      <td>Senior-level/Expert</td>\n",
       "      <td>Full-time</td>\n",
       "      <td>Machine Learning Scientist</td>\n",
       "      <td>260000</td>\n",
       "      <td>JPN</td>\n",
       "      <td>No remote work</td>\n",
       "      <td>JP</td>\n",
       "      <td>S</td>\n",
       "    </tr>\n",
       "    <tr>\n",
       "      <th>2</th>\n",
       "      <td>2020</td>\n",
       "      <td>Senior-level/Expert</td>\n",
       "      <td>Full-time</td>\n",
       "      <td>Big Data Engineer</td>\n",
       "      <td>109024</td>\n",
       "      <td>GBR</td>\n",
       "      <td>Partially remote</td>\n",
       "      <td>GB</td>\n",
       "      <td>M</td>\n",
       "    </tr>\n",
       "    <tr>\n",
       "      <th>3</th>\n",
       "      <td>2020</td>\n",
       "      <td>Mid-level/Intermediate</td>\n",
       "      <td>Full-time</td>\n",
       "      <td>Product Data Analyst</td>\n",
       "      <td>20000</td>\n",
       "      <td>HND</td>\n",
       "      <td>No remote work</td>\n",
       "      <td>HN</td>\n",
       "      <td>S</td>\n",
       "    </tr>\n",
       "    <tr>\n",
       "      <th>4</th>\n",
       "      <td>2020</td>\n",
       "      <td>Senior-level/Expert</td>\n",
       "      <td>Full-time</td>\n",
       "      <td>Machine Learning Engineer</td>\n",
       "      <td>150000</td>\n",
       "      <td>USA</td>\n",
       "      <td>Partially remote</td>\n",
       "      <td>US</td>\n",
       "      <td>L</td>\n",
       "    </tr>\n",
       "  </tbody>\n",
       "</table>\n",
       "</div>"
      ],
      "text/plain": [
       "   work_year        experience_level employment_type  \\\n",
       "0       2020  Mid-level/Intermediate       Full-time   \n",
       "1       2020     Senior-level/Expert       Full-time   \n",
       "2       2020     Senior-level/Expert       Full-time   \n",
       "3       2020  Mid-level/Intermediate       Full-time   \n",
       "4       2020     Senior-level/Expert       Full-time   \n",
       "\n",
       "                    job_title  salary_in_usd employee_residence  \\\n",
       "0              Data Scientist          79833                DEU   \n",
       "1  Machine Learning Scientist         260000                JPN   \n",
       "2           Big Data Engineer         109024                GBR   \n",
       "3        Product Data Analyst          20000                HND   \n",
       "4   Machine Learning Engineer         150000                USA   \n",
       "\n",
       "       remote_ratio company_location company_size  \n",
       "0    No remote work               DE            L  \n",
       "1    No remote work               JP            S  \n",
       "2  Partially remote               GB            M  \n",
       "3    No remote work               HN            S  \n",
       "4  Partially remote               US            L  "
      ]
     },
     "execution_count": 330,
     "metadata": {},
     "output_type": "execute_result"
    }
   ],
   "source": [
    "df.head()"
   ]
  },
  {
   "cell_type": "markdown",
   "id": "8bdf8ea0",
   "metadata": {},
   "source": [
    "## What is the site of the companies with the highest average salaries (top ten) ?"
   ]
  },
  {
   "cell_type": "code",
   "execution_count": 348,
   "id": "d23cbc2b",
   "metadata": {},
   "outputs": [],
   "source": [
    "converted_country = coco.convert(names=df['company_location'], to=\"ISO3\")\n",
    "df['company_location'] = converted_country"
   ]
  },
  {
   "cell_type": "code",
   "execution_count": 381,
   "id": "c4241c67",
   "metadata": {
    "scrolled": false
   },
   "outputs": [
    {
     "data": {
      "text/html": [
       "<div>\n",
       "<style scoped>\n",
       "    .dataframe tbody tr th:only-of-type {\n",
       "        vertical-align: middle;\n",
       "    }\n",
       "\n",
       "    .dataframe tbody tr th {\n",
       "        vertical-align: top;\n",
       "    }\n",
       "\n",
       "    .dataframe thead th {\n",
       "        text-align: right;\n",
       "    }\n",
       "</style>\n",
       "<table border=\"1\" class=\"dataframe\">\n",
       "  <thead>\n",
       "    <tr style=\"text-align: right;\">\n",
       "      <th></th>\n",
       "      <th>salary_in_usd</th>\n",
       "    </tr>\n",
       "    <tr>\n",
       "      <th>company_location</th>\n",
       "      <th></th>\n",
       "    </tr>\n",
       "  </thead>\n",
       "  <tbody>\n",
       "    <tr>\n",
       "      <th>RUS</th>\n",
       "      <td>157500.000000</td>\n",
       "    </tr>\n",
       "    <tr>\n",
       "      <th>USA</th>\n",
       "      <td>144055.261972</td>\n",
       "    </tr>\n",
       "    <tr>\n",
       "      <th>NZL</th>\n",
       "      <td>125000.000000</td>\n",
       "    </tr>\n",
       "    <tr>\n",
       "      <th>ISR</th>\n",
       "      <td>119059.000000</td>\n",
       "    </tr>\n",
       "    <tr>\n",
       "      <th>JPN</th>\n",
       "      <td>114127.333333</td>\n",
       "    </tr>\n",
       "    <tr>\n",
       "      <th>AUS</th>\n",
       "      <td>108042.666667</td>\n",
       "    </tr>\n",
       "    <tr>\n",
       "      <th>ARE</th>\n",
       "      <td>100000.000000</td>\n",
       "    </tr>\n",
       "    <tr>\n",
       "      <th>IRQ</th>\n",
       "      <td>100000.000000</td>\n",
       "    </tr>\n",
       "    <tr>\n",
       "      <th>DZA</th>\n",
       "      <td>100000.000000</td>\n",
       "    </tr>\n",
       "    <tr>\n",
       "      <th>CAN</th>\n",
       "      <td>99823.733333</td>\n",
       "    </tr>\n",
       "  </tbody>\n",
       "</table>\n",
       "</div>"
      ],
      "text/plain": [
       "                  salary_in_usd\n",
       "company_location               \n",
       "RUS               157500.000000\n",
       "USA               144055.261972\n",
       "NZL               125000.000000\n",
       "ISR               119059.000000\n",
       "JPN               114127.333333\n",
       "AUS               108042.666667\n",
       "ARE               100000.000000\n",
       "IRQ               100000.000000\n",
       "DZA               100000.000000\n",
       "CAN                99823.733333"
      ]
     },
     "execution_count": 381,
     "metadata": {},
     "output_type": "execute_result"
    }
   ],
   "source": [
    "s=df.groupby('company_location').mean()\n",
    "s.sort_values(by=['salary_in_usd'],ascending=False)[['salary_in_usd']][:10]"
   ]
  },
  {
   "cell_type": "markdown",
   "id": "a0a238eb",
   "metadata": {},
   "source": [
    "<p>we note that the company located in <b>Russia</b> has the hightest average salary,followed by the company located in <b>USA</b>.</p>"
   ]
  },
  {
   "cell_type": "markdown",
   "id": "1169f2f2",
   "metadata": {},
   "source": [
    "## what is top ten job title have the heights avg salary ?\n"
   ]
  },
  {
   "cell_type": "code",
   "execution_count": 419,
   "id": "676c79c1",
   "metadata": {
    "scrolled": true
   },
   "outputs": [
    {
     "data": {
      "text/html": [
       "<div>\n",
       "<style scoped>\n",
       "    .dataframe tbody tr th:only-of-type {\n",
       "        vertical-align: middle;\n",
       "    }\n",
       "\n",
       "    .dataframe tbody tr th {\n",
       "        vertical-align: top;\n",
       "    }\n",
       "\n",
       "    .dataframe thead th {\n",
       "        text-align: right;\n",
       "    }\n",
       "</style>\n",
       "<table border=\"1\" class=\"dataframe\">\n",
       "  <thead>\n",
       "    <tr style=\"text-align: right;\">\n",
       "      <th></th>\n",
       "      <th>salary_in_usd</th>\n",
       "    </tr>\n",
       "    <tr>\n",
       "      <th>job_title</th>\n",
       "      <th></th>\n",
       "    </tr>\n",
       "  </thead>\n",
       "  <tbody>\n",
       "    <tr>\n",
       "      <th>Data Analytics Lead</th>\n",
       "      <td>405000.000000</td>\n",
       "    </tr>\n",
       "    <tr>\n",
       "      <th>Principal Data Engineer</th>\n",
       "      <td>328333.333333</td>\n",
       "    </tr>\n",
       "    <tr>\n",
       "      <th>Financial Data Analyst</th>\n",
       "      <td>275000.000000</td>\n",
       "    </tr>\n",
       "    <tr>\n",
       "      <th>Principal Data Scientist</th>\n",
       "      <td>215242.428571</td>\n",
       "    </tr>\n",
       "    <tr>\n",
       "      <th>Director of Data Science</th>\n",
       "      <td>195074.000000</td>\n",
       "    </tr>\n",
       "    <tr>\n",
       "      <th>Data Architect</th>\n",
       "      <td>177873.909091</td>\n",
       "    </tr>\n",
       "    <tr>\n",
       "      <th>Applied Data Scientist</th>\n",
       "      <td>175655.000000</td>\n",
       "    </tr>\n",
       "    <tr>\n",
       "      <th>Analytics Engineer</th>\n",
       "      <td>175000.000000</td>\n",
       "    </tr>\n",
       "    <tr>\n",
       "      <th>Data Specialist</th>\n",
       "      <td>165000.000000</td>\n",
       "    </tr>\n",
       "    <tr>\n",
       "      <th>Head of Data</th>\n",
       "      <td>160162.600000</td>\n",
       "    </tr>\n",
       "  </tbody>\n",
       "</table>\n",
       "</div>"
      ],
      "text/plain": [
       "                          salary_in_usd\n",
       "job_title                              \n",
       "Data Analytics Lead       405000.000000\n",
       "Principal Data Engineer   328333.333333\n",
       "Financial Data Analyst    275000.000000\n",
       "Principal Data Scientist  215242.428571\n",
       "Director of Data Science  195074.000000\n",
       "Data Architect            177873.909091\n",
       "Applied Data Scientist    175655.000000\n",
       "Analytics Engineer        175000.000000\n",
       "Data Specialist           165000.000000\n",
       "Head of Data              160162.600000"
      ]
     },
     "execution_count": 419,
     "metadata": {},
     "output_type": "execute_result"
    }
   ],
   "source": [
    "s=df.groupby('job_title').mean()\n",
    "s.sort_values(by='salary_in_usd',ascending=False)[['salary_in_usd']][:10]"
   ]
  },
  {
   "cell_type": "markdown",
   "id": "81060a1b",
   "metadata": {},
   "source": [
    "We note the <b>data analytics lead</b> has the highest average salary, followed by the <b>principal data engineer"
   ]
  },
  {
   "cell_type": "markdown",
   "id": "0cbf79b0",
   "metadata": {},
   "source": [
    "<h1 style= 'text-align: center'>Thanks for seeing my notebook 🌹</h1>\n",
    "\n",
    "#### Follow me on Linkedin : https://www.linkedin.com/in/mohammad-al-fuqaha-a-1453861b9/"
   ]
  }
 ],
 "metadata": {
  "kernelspec": {
   "display_name": "Python 3",
   "language": "python",
   "name": "python3"
  },
  "language_info": {
   "codemirror_mode": {
    "name": "ipython",
    "version": 3
   },
   "file_extension": ".py",
   "mimetype": "text/x-python",
   "name": "python",
   "nbconvert_exporter": "python",
   "pygments_lexer": "ipython3",
   "version": "3.8.8"
  }
 },
 "nbformat": 4,
 "nbformat_minor": 5
}
